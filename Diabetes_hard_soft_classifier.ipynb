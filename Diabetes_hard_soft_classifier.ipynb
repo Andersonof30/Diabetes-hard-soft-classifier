{
  "nbformat": 4,
  "nbformat_minor": 5,
  "metadata": {
    "kernelspec": {
      "display_name": "Python 3",
      "language": "python",
      "name": "python3"
    },
    "language_info": {
      "codemirror_mode": {
        "name": "ipython",
        "version": 3
      },
      "file_extension": ".py",
      "mimetype": "text/x-python",
      "name": "python",
      "nbconvert_exporter": "python",
      "pygments_lexer": "ipython3",
      "version": "3.8.8"
    },
    "colab": {
      "provenance": [],
      "collapsed_sections": [],
      "include_colab_link": true
    }
  },
  "cells": [
    {
      "cell_type": "markdown",
      "metadata": {
        "id": "view-in-github",
        "colab_type": "text"
      },
      "source": [
        "<a href=\"https://colab.research.google.com/github/Andersonof30/Diabetes-hard-soft-classifier/blob/main/Diabetes_hard_soft_classifier.ipynb\" target=\"_parent\"><img src=\"https://colab.research.google.com/assets/colab-badge.svg\" alt=\"Open In Colab\"/></a>"
      ]
    },
    {
      "cell_type": "code",
      "metadata": {
        "id": "13aac981"
      },
      "source": [
        "import pandas as pd\n",
        "import io\n",
        "import requests\n",
        " \n",
        "url = \"https://raw.githubusercontent.com/Andersonof30/Diabetes-hard-soft-classifier/main/diabetes%20FI.csv\"\n",
        "s=requests.get(url).content\n",
        "data=pd.read_csv(io.StringIO(s.decode('utf-8')))"
      ],
      "id": "13aac981",
      "execution_count": null,
      "outputs": []
    },
    {
      "cell_type": "code",
      "metadata": {
        "colab": {
          "base_uri": "https://localhost:8080/",
          "height": 206
        },
        "id": "ca065446",
        "outputId": "86f73c03-9ee3-4805-e1a0-8189b938d7e5"
      },
      "source": [
        "data = data[['Glucose', 'BMI', 'Age', 'Pregnancies', 'Outcome']]\n",
        "data = data.drop(data[data['BMI'] == 0].index)\n",
        "data.head()"
      ],
      "id": "ca065446",
      "execution_count": null,
      "outputs": [
        {
          "output_type": "execute_result",
          "data": {
            "text/plain": [
              "   Glucose   BMI  Age  Pregnancies  Outcome\n",
              "0      148  33.6   50            6        1\n",
              "1       85  26.6   31            1        0\n",
              "2      183  23.3   32            8        1\n",
              "3       89  28.1   21            1        0\n",
              "4      137  43.1   33            0        1"
            ],
            "text/html": [
              "\n",
              "  <div id=\"df-33e5b0f1-e159-4fc6-ab82-c931c2e02ec7\">\n",
              "    <div class=\"colab-df-container\">\n",
              "      <div>\n",
              "<style scoped>\n",
              "    .dataframe tbody tr th:only-of-type {\n",
              "        vertical-align: middle;\n",
              "    }\n",
              "\n",
              "    .dataframe tbody tr th {\n",
              "        vertical-align: top;\n",
              "    }\n",
              "\n",
              "    .dataframe thead th {\n",
              "        text-align: right;\n",
              "    }\n",
              "</style>\n",
              "<table border=\"1\" class=\"dataframe\">\n",
              "  <thead>\n",
              "    <tr style=\"text-align: right;\">\n",
              "      <th></th>\n",
              "      <th>Glucose</th>\n",
              "      <th>BMI</th>\n",
              "      <th>Age</th>\n",
              "      <th>Pregnancies</th>\n",
              "      <th>Outcome</th>\n",
              "    </tr>\n",
              "  </thead>\n",
              "  <tbody>\n",
              "    <tr>\n",
              "      <th>0</th>\n",
              "      <td>148</td>\n",
              "      <td>33.6</td>\n",
              "      <td>50</td>\n",
              "      <td>6</td>\n",
              "      <td>1</td>\n",
              "    </tr>\n",
              "    <tr>\n",
              "      <th>1</th>\n",
              "      <td>85</td>\n",
              "      <td>26.6</td>\n",
              "      <td>31</td>\n",
              "      <td>1</td>\n",
              "      <td>0</td>\n",
              "    </tr>\n",
              "    <tr>\n",
              "      <th>2</th>\n",
              "      <td>183</td>\n",
              "      <td>23.3</td>\n",
              "      <td>32</td>\n",
              "      <td>8</td>\n",
              "      <td>1</td>\n",
              "    </tr>\n",
              "    <tr>\n",
              "      <th>3</th>\n",
              "      <td>89</td>\n",
              "      <td>28.1</td>\n",
              "      <td>21</td>\n",
              "      <td>1</td>\n",
              "      <td>0</td>\n",
              "    </tr>\n",
              "    <tr>\n",
              "      <th>4</th>\n",
              "      <td>137</td>\n",
              "      <td>43.1</td>\n",
              "      <td>33</td>\n",
              "      <td>0</td>\n",
              "      <td>1</td>\n",
              "    </tr>\n",
              "  </tbody>\n",
              "</table>\n",
              "</div>\n",
              "      <button class=\"colab-df-convert\" onclick=\"convertToInteractive('df-33e5b0f1-e159-4fc6-ab82-c931c2e02ec7')\"\n",
              "              title=\"Convert this dataframe to an interactive table.\"\n",
              "              style=\"display:none;\">\n",
              "        \n",
              "  <svg xmlns=\"http://www.w3.org/2000/svg\" height=\"24px\"viewBox=\"0 0 24 24\"\n",
              "       width=\"24px\">\n",
              "    <path d=\"M0 0h24v24H0V0z\" fill=\"none\"/>\n",
              "    <path d=\"M18.56 5.44l.94 2.06.94-2.06 2.06-.94-2.06-.94-.94-2.06-.94 2.06-2.06.94zm-11 1L8.5 8.5l.94-2.06 2.06-.94-2.06-.94L8.5 2.5l-.94 2.06-2.06.94zm10 10l.94 2.06.94-2.06 2.06-.94-2.06-.94-.94-2.06-.94 2.06-2.06.94z\"/><path d=\"M17.41 7.96l-1.37-1.37c-.4-.4-.92-.59-1.43-.59-.52 0-1.04.2-1.43.59L10.3 9.45l-7.72 7.72c-.78.78-.78 2.05 0 2.83L4 21.41c.39.39.9.59 1.41.59.51 0 1.02-.2 1.41-.59l7.78-7.78 2.81-2.81c.8-.78.8-2.07 0-2.86zM5.41 20L4 18.59l7.72-7.72 1.47 1.35L5.41 20z\"/>\n",
              "  </svg>\n",
              "      </button>\n",
              "      \n",
              "  <style>\n",
              "    .colab-df-container {\n",
              "      display:flex;\n",
              "      flex-wrap:wrap;\n",
              "      gap: 12px;\n",
              "    }\n",
              "\n",
              "    .colab-df-convert {\n",
              "      background-color: #E8F0FE;\n",
              "      border: none;\n",
              "      border-radius: 50%;\n",
              "      cursor: pointer;\n",
              "      display: none;\n",
              "      fill: #1967D2;\n",
              "      height: 32px;\n",
              "      padding: 0 0 0 0;\n",
              "      width: 32px;\n",
              "    }\n",
              "\n",
              "    .colab-df-convert:hover {\n",
              "      background-color: #E2EBFA;\n",
              "      box-shadow: 0px 1px 2px rgba(60, 64, 67, 0.3), 0px 1px 3px 1px rgba(60, 64, 67, 0.15);\n",
              "      fill: #174EA6;\n",
              "    }\n",
              "\n",
              "    [theme=dark] .colab-df-convert {\n",
              "      background-color: #3B4455;\n",
              "      fill: #D2E3FC;\n",
              "    }\n",
              "\n",
              "    [theme=dark] .colab-df-convert:hover {\n",
              "      background-color: #434B5C;\n",
              "      box-shadow: 0px 1px 3px 1px rgba(0, 0, 0, 0.15);\n",
              "      filter: drop-shadow(0px 1px 2px rgba(0, 0, 0, 0.3));\n",
              "      fill: #FFFFFF;\n",
              "    }\n",
              "  </style>\n",
              "\n",
              "      <script>\n",
              "        const buttonEl =\n",
              "          document.querySelector('#df-33e5b0f1-e159-4fc6-ab82-c931c2e02ec7 button.colab-df-convert');\n",
              "        buttonEl.style.display =\n",
              "          google.colab.kernel.accessAllowed ? 'block' : 'none';\n",
              "\n",
              "        async function convertToInteractive(key) {\n",
              "          const element = document.querySelector('#df-33e5b0f1-e159-4fc6-ab82-c931c2e02ec7');\n",
              "          const dataTable =\n",
              "            await google.colab.kernel.invokeFunction('convertToInteractive',\n",
              "                                                     [key], {});\n",
              "          if (!dataTable) return;\n",
              "\n",
              "          const docLinkHtml = 'Like what you see? Visit the ' +\n",
              "            '<a target=\"_blank\" href=https://colab.research.google.com/notebooks/data_table.ipynb>data table notebook</a>'\n",
              "            + ' to learn more about interactive tables.';\n",
              "          element.innerHTML = '';\n",
              "          dataTable['output_type'] = 'display_data';\n",
              "          await google.colab.output.renderOutput(dataTable, element);\n",
              "          const docLink = document.createElement('div');\n",
              "          docLink.innerHTML = docLinkHtml;\n",
              "          element.appendChild(docLink);\n",
              "        }\n",
              "      </script>\n",
              "    </div>\n",
              "  </div>\n",
              "  "
            ]
          },
          "metadata": {},
          "execution_count": 2
        }
      ]
    },
    {
      "cell_type": "code",
      "metadata": {
        "id": "882889e5"
      },
      "source": [
        "from sklearn.model_selection import KFold\n",
        "from sklearn.preprocessing import StandardScaler\n"
      ],
      "id": "882889e5",
      "execution_count": null,
      "outputs": []
    },
    {
      "cell_type": "code",
      "source": [
        "data"
      ],
      "metadata": {
        "colab": {
          "base_uri": "https://localhost:8080/",
          "height": 424
        },
        "id": "Vcc4xoEY4o15",
        "outputId": "c6e19b70-b451-46d7-ca61-3a97be717d7c"
      },
      "id": "Vcc4xoEY4o15",
      "execution_count": null,
      "outputs": [
        {
          "output_type": "execute_result",
          "data": {
            "text/plain": [
              "     Glucose   BMI  Age  Pregnancies  Outcome\n",
              "0        148  33.6   50            6        1\n",
              "1         85  26.6   31            1        0\n",
              "2        183  23.3   32            8        1\n",
              "3         89  28.1   21            1        0\n",
              "4        137  43.1   33            0        1\n",
              "..       ...   ...  ...          ...      ...\n",
              "763      101  32.9   63           10        0\n",
              "764      122  36.8   27            2        0\n",
              "765      121  26.2   30            5        0\n",
              "766      126  30.1   47            1        1\n",
              "767       93  30.4   23            1        0\n",
              "\n",
              "[757 rows x 5 columns]"
            ],
            "text/html": [
              "\n",
              "  <div id=\"df-98ed766a-2d7a-4dd1-942d-22eb259a2017\">\n",
              "    <div class=\"colab-df-container\">\n",
              "      <div>\n",
              "<style scoped>\n",
              "    .dataframe tbody tr th:only-of-type {\n",
              "        vertical-align: middle;\n",
              "    }\n",
              "\n",
              "    .dataframe tbody tr th {\n",
              "        vertical-align: top;\n",
              "    }\n",
              "\n",
              "    .dataframe thead th {\n",
              "        text-align: right;\n",
              "    }\n",
              "</style>\n",
              "<table border=\"1\" class=\"dataframe\">\n",
              "  <thead>\n",
              "    <tr style=\"text-align: right;\">\n",
              "      <th></th>\n",
              "      <th>Glucose</th>\n",
              "      <th>BMI</th>\n",
              "      <th>Age</th>\n",
              "      <th>Pregnancies</th>\n",
              "      <th>Outcome</th>\n",
              "    </tr>\n",
              "  </thead>\n",
              "  <tbody>\n",
              "    <tr>\n",
              "      <th>0</th>\n",
              "      <td>148</td>\n",
              "      <td>33.6</td>\n",
              "      <td>50</td>\n",
              "      <td>6</td>\n",
              "      <td>1</td>\n",
              "    </tr>\n",
              "    <tr>\n",
              "      <th>1</th>\n",
              "      <td>85</td>\n",
              "      <td>26.6</td>\n",
              "      <td>31</td>\n",
              "      <td>1</td>\n",
              "      <td>0</td>\n",
              "    </tr>\n",
              "    <tr>\n",
              "      <th>2</th>\n",
              "      <td>183</td>\n",
              "      <td>23.3</td>\n",
              "      <td>32</td>\n",
              "      <td>8</td>\n",
              "      <td>1</td>\n",
              "    </tr>\n",
              "    <tr>\n",
              "      <th>3</th>\n",
              "      <td>89</td>\n",
              "      <td>28.1</td>\n",
              "      <td>21</td>\n",
              "      <td>1</td>\n",
              "      <td>0</td>\n",
              "    </tr>\n",
              "    <tr>\n",
              "      <th>4</th>\n",
              "      <td>137</td>\n",
              "      <td>43.1</td>\n",
              "      <td>33</td>\n",
              "      <td>0</td>\n",
              "      <td>1</td>\n",
              "    </tr>\n",
              "    <tr>\n",
              "      <th>...</th>\n",
              "      <td>...</td>\n",
              "      <td>...</td>\n",
              "      <td>...</td>\n",
              "      <td>...</td>\n",
              "      <td>...</td>\n",
              "    </tr>\n",
              "    <tr>\n",
              "      <th>763</th>\n",
              "      <td>101</td>\n",
              "      <td>32.9</td>\n",
              "      <td>63</td>\n",
              "      <td>10</td>\n",
              "      <td>0</td>\n",
              "    </tr>\n",
              "    <tr>\n",
              "      <th>764</th>\n",
              "      <td>122</td>\n",
              "      <td>36.8</td>\n",
              "      <td>27</td>\n",
              "      <td>2</td>\n",
              "      <td>0</td>\n",
              "    </tr>\n",
              "    <tr>\n",
              "      <th>765</th>\n",
              "      <td>121</td>\n",
              "      <td>26.2</td>\n",
              "      <td>30</td>\n",
              "      <td>5</td>\n",
              "      <td>0</td>\n",
              "    </tr>\n",
              "    <tr>\n",
              "      <th>766</th>\n",
              "      <td>126</td>\n",
              "      <td>30.1</td>\n",
              "      <td>47</td>\n",
              "      <td>1</td>\n",
              "      <td>1</td>\n",
              "    </tr>\n",
              "    <tr>\n",
              "      <th>767</th>\n",
              "      <td>93</td>\n",
              "      <td>30.4</td>\n",
              "      <td>23</td>\n",
              "      <td>1</td>\n",
              "      <td>0</td>\n",
              "    </tr>\n",
              "  </tbody>\n",
              "</table>\n",
              "<p>757 rows × 5 columns</p>\n",
              "</div>\n",
              "      <button class=\"colab-df-convert\" onclick=\"convertToInteractive('df-98ed766a-2d7a-4dd1-942d-22eb259a2017')\"\n",
              "              title=\"Convert this dataframe to an interactive table.\"\n",
              "              style=\"display:none;\">\n",
              "        \n",
              "  <svg xmlns=\"http://www.w3.org/2000/svg\" height=\"24px\"viewBox=\"0 0 24 24\"\n",
              "       width=\"24px\">\n",
              "    <path d=\"M0 0h24v24H0V0z\" fill=\"none\"/>\n",
              "    <path d=\"M18.56 5.44l.94 2.06.94-2.06 2.06-.94-2.06-.94-.94-2.06-.94 2.06-2.06.94zm-11 1L8.5 8.5l.94-2.06 2.06-.94-2.06-.94L8.5 2.5l-.94 2.06-2.06.94zm10 10l.94 2.06.94-2.06 2.06-.94-2.06-.94-.94-2.06-.94 2.06-2.06.94z\"/><path d=\"M17.41 7.96l-1.37-1.37c-.4-.4-.92-.59-1.43-.59-.52 0-1.04.2-1.43.59L10.3 9.45l-7.72 7.72c-.78.78-.78 2.05 0 2.83L4 21.41c.39.39.9.59 1.41.59.51 0 1.02-.2 1.41-.59l7.78-7.78 2.81-2.81c.8-.78.8-2.07 0-2.86zM5.41 20L4 18.59l7.72-7.72 1.47 1.35L5.41 20z\"/>\n",
              "  </svg>\n",
              "      </button>\n",
              "      \n",
              "  <style>\n",
              "    .colab-df-container {\n",
              "      display:flex;\n",
              "      flex-wrap:wrap;\n",
              "      gap: 12px;\n",
              "    }\n",
              "\n",
              "    .colab-df-convert {\n",
              "      background-color: #E8F0FE;\n",
              "      border: none;\n",
              "      border-radius: 50%;\n",
              "      cursor: pointer;\n",
              "      display: none;\n",
              "      fill: #1967D2;\n",
              "      height: 32px;\n",
              "      padding: 0 0 0 0;\n",
              "      width: 32px;\n",
              "    }\n",
              "\n",
              "    .colab-df-convert:hover {\n",
              "      background-color: #E2EBFA;\n",
              "      box-shadow: 0px 1px 2px rgba(60, 64, 67, 0.3), 0px 1px 3px 1px rgba(60, 64, 67, 0.15);\n",
              "      fill: #174EA6;\n",
              "    }\n",
              "\n",
              "    [theme=dark] .colab-df-convert {\n",
              "      background-color: #3B4455;\n",
              "      fill: #D2E3FC;\n",
              "    }\n",
              "\n",
              "    [theme=dark] .colab-df-convert:hover {\n",
              "      background-color: #434B5C;\n",
              "      box-shadow: 0px 1px 3px 1px rgba(0, 0, 0, 0.15);\n",
              "      filter: drop-shadow(0px 1px 2px rgba(0, 0, 0, 0.3));\n",
              "      fill: #FFFFFF;\n",
              "    }\n",
              "  </style>\n",
              "\n",
              "      <script>\n",
              "        const buttonEl =\n",
              "          document.querySelector('#df-98ed766a-2d7a-4dd1-942d-22eb259a2017 button.colab-df-convert');\n",
              "        buttonEl.style.display =\n",
              "          google.colab.kernel.accessAllowed ? 'block' : 'none';\n",
              "\n",
              "        async function convertToInteractive(key) {\n",
              "          const element = document.querySelector('#df-98ed766a-2d7a-4dd1-942d-22eb259a2017');\n",
              "          const dataTable =\n",
              "            await google.colab.kernel.invokeFunction('convertToInteractive',\n",
              "                                                     [key], {});\n",
              "          if (!dataTable) return;\n",
              "\n",
              "          const docLinkHtml = 'Like what you see? Visit the ' +\n",
              "            '<a target=\"_blank\" href=https://colab.research.google.com/notebooks/data_table.ipynb>data table notebook</a>'\n",
              "            + ' to learn more about interactive tables.';\n",
              "          element.innerHTML = '';\n",
              "          dataTable['output_type'] = 'display_data';\n",
              "          await google.colab.output.renderOutput(dataTable, element);\n",
              "          const docLink = document.createElement('div');\n",
              "          docLink.innerHTML = docLinkHtml;\n",
              "          element.appendChild(docLink);\n",
              "        }\n",
              "      </script>\n",
              "    </div>\n",
              "  </div>\n",
              "  "
            ]
          },
          "metadata": {},
          "execution_count": 7
        }
      ]
    },
    {
      "cell_type": "code",
      "metadata": {
        "id": "1d80e3d6"
      },
      "source": [
        "sc = StandardScaler()\n",
        "VR = pd.DataFrame(data[['Outcome']])\n"
      ],
      "id": "1d80e3d6",
      "execution_count": null,
      "outputs": []
    },
    {
      "cell_type": "code",
      "metadata": {
        "colab": {
          "base_uri": "https://localhost:8080/",
          "height": 206
        },
        "id": "c3654d03",
        "outputId": "f7bb3757-c715-4bc9-bde0-aaae218259f7"
      },
      "source": [
        "data2 = data.drop(['Outcome'], axis = 1)\n",
        "aux0 = sc.fit_transform(data2)\n",
        "VN = pd.DataFrame(aux0)\n",
        "\n",
        "VN.reset_index(drop=True, inplace=True)\n",
        "VR.reset_index(drop=True, inplace=True)\n",
        "data = pd.concat([VN, VR], axis = 1, ignore_index=True, sort=False)\n",
        "\n",
        "data.head()"
      ],
      "id": "c3654d03",
      "execution_count": null,
      "outputs": [
        {
          "output_type": "execute_result",
          "data": {
            "text/plain": [
              "          0         1         2         3  4\n",
              "0  0.838444  0.165097  1.430162  0.640157  1\n",
              "1 -1.127834 -0.846404 -0.195156 -0.844521  0\n",
              "2  1.930820 -1.323254 -0.109613  1.234029  1\n",
              "3 -1.002991 -0.629654 -1.050586 -0.844521  0\n",
              "4  0.495125  1.537847 -0.024070 -1.141457  1"
            ],
            "text/html": [
              "\n",
              "  <div id=\"df-1b0589b9-a424-4e4d-a150-0dad717b415c\">\n",
              "    <div class=\"colab-df-container\">\n",
              "      <div>\n",
              "<style scoped>\n",
              "    .dataframe tbody tr th:only-of-type {\n",
              "        vertical-align: middle;\n",
              "    }\n",
              "\n",
              "    .dataframe tbody tr th {\n",
              "        vertical-align: top;\n",
              "    }\n",
              "\n",
              "    .dataframe thead th {\n",
              "        text-align: right;\n",
              "    }\n",
              "</style>\n",
              "<table border=\"1\" class=\"dataframe\">\n",
              "  <thead>\n",
              "    <tr style=\"text-align: right;\">\n",
              "      <th></th>\n",
              "      <th>0</th>\n",
              "      <th>1</th>\n",
              "      <th>2</th>\n",
              "      <th>3</th>\n",
              "      <th>4</th>\n",
              "    </tr>\n",
              "  </thead>\n",
              "  <tbody>\n",
              "    <tr>\n",
              "      <th>0</th>\n",
              "      <td>0.838444</td>\n",
              "      <td>0.165097</td>\n",
              "      <td>1.430162</td>\n",
              "      <td>0.640157</td>\n",
              "      <td>1</td>\n",
              "    </tr>\n",
              "    <tr>\n",
              "      <th>1</th>\n",
              "      <td>-1.127834</td>\n",
              "      <td>-0.846404</td>\n",
              "      <td>-0.195156</td>\n",
              "      <td>-0.844521</td>\n",
              "      <td>0</td>\n",
              "    </tr>\n",
              "    <tr>\n",
              "      <th>2</th>\n",
              "      <td>1.930820</td>\n",
              "      <td>-1.323254</td>\n",
              "      <td>-0.109613</td>\n",
              "      <td>1.234029</td>\n",
              "      <td>1</td>\n",
              "    </tr>\n",
              "    <tr>\n",
              "      <th>3</th>\n",
              "      <td>-1.002991</td>\n",
              "      <td>-0.629654</td>\n",
              "      <td>-1.050586</td>\n",
              "      <td>-0.844521</td>\n",
              "      <td>0</td>\n",
              "    </tr>\n",
              "    <tr>\n",
              "      <th>4</th>\n",
              "      <td>0.495125</td>\n",
              "      <td>1.537847</td>\n",
              "      <td>-0.024070</td>\n",
              "      <td>-1.141457</td>\n",
              "      <td>1</td>\n",
              "    </tr>\n",
              "  </tbody>\n",
              "</table>\n",
              "</div>\n",
              "      <button class=\"colab-df-convert\" onclick=\"convertToInteractive('df-1b0589b9-a424-4e4d-a150-0dad717b415c')\"\n",
              "              title=\"Convert this dataframe to an interactive table.\"\n",
              "              style=\"display:none;\">\n",
              "        \n",
              "  <svg xmlns=\"http://www.w3.org/2000/svg\" height=\"24px\"viewBox=\"0 0 24 24\"\n",
              "       width=\"24px\">\n",
              "    <path d=\"M0 0h24v24H0V0z\" fill=\"none\"/>\n",
              "    <path d=\"M18.56 5.44l.94 2.06.94-2.06 2.06-.94-2.06-.94-.94-2.06-.94 2.06-2.06.94zm-11 1L8.5 8.5l.94-2.06 2.06-.94-2.06-.94L8.5 2.5l-.94 2.06-2.06.94zm10 10l.94 2.06.94-2.06 2.06-.94-2.06-.94-.94-2.06-.94 2.06-2.06.94z\"/><path d=\"M17.41 7.96l-1.37-1.37c-.4-.4-.92-.59-1.43-.59-.52 0-1.04.2-1.43.59L10.3 9.45l-7.72 7.72c-.78.78-.78 2.05 0 2.83L4 21.41c.39.39.9.59 1.41.59.51 0 1.02-.2 1.41-.59l7.78-7.78 2.81-2.81c.8-.78.8-2.07 0-2.86zM5.41 20L4 18.59l7.72-7.72 1.47 1.35L5.41 20z\"/>\n",
              "  </svg>\n",
              "      </button>\n",
              "      \n",
              "  <style>\n",
              "    .colab-df-container {\n",
              "      display:flex;\n",
              "      flex-wrap:wrap;\n",
              "      gap: 12px;\n",
              "    }\n",
              "\n",
              "    .colab-df-convert {\n",
              "      background-color: #E8F0FE;\n",
              "      border: none;\n",
              "      border-radius: 50%;\n",
              "      cursor: pointer;\n",
              "      display: none;\n",
              "      fill: #1967D2;\n",
              "      height: 32px;\n",
              "      padding: 0 0 0 0;\n",
              "      width: 32px;\n",
              "    }\n",
              "\n",
              "    .colab-df-convert:hover {\n",
              "      background-color: #E2EBFA;\n",
              "      box-shadow: 0px 1px 2px rgba(60, 64, 67, 0.3), 0px 1px 3px 1px rgba(60, 64, 67, 0.15);\n",
              "      fill: #174EA6;\n",
              "    }\n",
              "\n",
              "    [theme=dark] .colab-df-convert {\n",
              "      background-color: #3B4455;\n",
              "      fill: #D2E3FC;\n",
              "    }\n",
              "\n",
              "    [theme=dark] .colab-df-convert:hover {\n",
              "      background-color: #434B5C;\n",
              "      box-shadow: 0px 1px 3px 1px rgba(0, 0, 0, 0.15);\n",
              "      filter: drop-shadow(0px 1px 2px rgba(0, 0, 0, 0.3));\n",
              "      fill: #FFFFFF;\n",
              "    }\n",
              "  </style>\n",
              "\n",
              "      <script>\n",
              "        const buttonEl =\n",
              "          document.querySelector('#df-1b0589b9-a424-4e4d-a150-0dad717b415c button.colab-df-convert');\n",
              "        buttonEl.style.display =\n",
              "          google.colab.kernel.accessAllowed ? 'block' : 'none';\n",
              "\n",
              "        async function convertToInteractive(key) {\n",
              "          const element = document.querySelector('#df-1b0589b9-a424-4e4d-a150-0dad717b415c');\n",
              "          const dataTable =\n",
              "            await google.colab.kernel.invokeFunction('convertToInteractive',\n",
              "                                                     [key], {});\n",
              "          if (!dataTable) return;\n",
              "\n",
              "          const docLinkHtml = 'Like what you see? Visit the ' +\n",
              "            '<a target=\"_blank\" href=https://colab.research.google.com/notebooks/data_table.ipynb>data table notebook</a>'\n",
              "            + ' to learn more about interactive tables.';\n",
              "          element.innerHTML = '';\n",
              "          dataTable['output_type'] = 'display_data';\n",
              "          await google.colab.output.renderOutput(dataTable, element);\n",
              "          const docLink = document.createElement('div');\n",
              "          docLink.innerHTML = docLinkHtml;\n",
              "          element.appendChild(docLink);\n",
              "        }\n",
              "      </script>\n",
              "    </div>\n",
              "  </div>\n",
              "  "
            ]
          },
          "metadata": {},
          "execution_count": 9
        }
      ]
    },
    {
      "cell_type": "code",
      "metadata": {
        "id": "6ErFGDi6X63M"
      },
      "source": [
        "kf = KFold(n_splits = 50, shuffle = True) #numero de divisão\n"
      ],
      "id": "6ErFGDi6X63M",
      "execution_count": null,
      "outputs": []
    },
    {
      "cell_type": "code",
      "metadata": {
        "id": "fd3e9e53"
      },
      "source": [
        "from pandas.core.common import random_state\n",
        "from sklearn.model_selection import train_test_split\n",
        "Xk, Xvalid, Yk, Yvalid = train_test_split(data.drop([4], axis = 1), \n",
        "                                                    data[4], \n",
        "                                                    test_size = 0.2, random_state = 12)\n",
        "#12"
      ],
      "id": "fd3e9e53",
      "execution_count": null,
      "outputs": []
    },
    {
      "cell_type": "code",
      "metadata": {
        "id": "18a8215f"
      },
      "source": [
        "import numpy as np\n",
        "from sklearn.ensemble import RandomForestClassifier\n",
        "from sklearn.metrics import accuracy_score \n",
        "from sklearn.model_selection import GridSearchCV\n",
        "from sklearn.linear_model import LogisticRegression\n",
        "from sklearn.neighbors import KNeighborsClassifier\n",
        "from sklearn.tree import DecisionTreeClassifier\n",
        "from sklearn.svm import SVC  \n"
      ],
      "id": "18a8215f",
      "execution_count": null,
      "outputs": []
    },
    {
      "cell_type": "code",
      "metadata": {
        "id": "78007fc8",
        "colab": {
          "base_uri": "https://localhost:8080/"
        },
        "outputId": "f83c0926-0cba-4f5f-b869-b0ffb5898558"
      },
      "source": [
        "valores = np.arange(5, 30, 2) #profundidades\n",
        "parametros2 = {'max_depth': valores}\n",
        "clf_mk = GridSearchCV(RandomForestClassifier(), param_grid = parametros2, cv = kf, scoring = 'accuracy')\n",
        "clf_mk.fit(Xk, Yk)"
      ],
      "id": "78007fc8",
      "execution_count": null,
      "outputs": [
        {
          "output_type": "execute_result",
          "data": {
            "text/plain": [
              "GridSearchCV(cv=KFold(n_splits=50, random_state=None, shuffle=True),\n",
              "             estimator=RandomForestClassifier(),\n",
              "             param_grid={'max_depth': array([ 5,  7,  9, 11, 13, 15, 17, 19, 21, 23, 25, 27, 29])},\n",
              "             scoring='accuracy')"
            ]
          },
          "metadata": {},
          "execution_count": 80
        }
      ]
    },
    {
      "cell_type": "code",
      "metadata": {
        "colab": {
          "base_uri": "https://localhost:8080/"
        },
        "id": "48c744de",
        "outputId": "1e93fb4f-74a2-4391-a7c9-8d526dcbec4f"
      },
      "source": [
        "vlk = np.arange(5, 40, 2)\n",
        "park = {'n_neighbors': vlk}\n",
        "knn = GridSearchCV(KNeighborsClassifier(), param_grid= park , cv = kf, scoring = 'accuracy')\n",
        "knn.fit(Xk, Yk)\n"
      ],
      "id": "48c744de",
      "execution_count": null,
      "outputs": [
        {
          "output_type": "execute_result",
          "data": {
            "text/plain": [
              "GridSearchCV(cv=KFold(n_splits=50, random_state=None, shuffle=True),\n",
              "             estimator=KNeighborsClassifier(),\n",
              "             param_grid={'n_neighbors': array([ 5,  7,  9, 11, 13, 15, 17, 19, 21, 23, 25, 27, 29, 31, 33, 35, 37,\n",
              "       39])},\n",
              "             scoring='accuracy')"
            ]
          },
          "metadata": {},
          "execution_count": 43
        }
      ]
    },
    {
      "cell_type": "code",
      "metadata": {
        "id": "81f7cb8a"
      },
      "source": [
        "valores = np.arange(5, 40, 2) #profundidades\n",
        "parametros = {'max_depth': valores}\n",
        "arvore = GridSearchCV(DecisionTreeClassifier(), param_grid = parametros, cv = kf, scoring = 'accuracy')\n",
        "arvore.fit(Xk, Yk)"
      ],
      "id": "81f7cb8a",
      "execution_count": null,
      "outputs": []
    },
    {
      "cell_type": "code",
      "metadata": {
        "id": "e2311991"
      },
      "source": [
        "rf_av = clf_mk.cv_results_['mean_test_score']\n",
        "print(clf_mk.best_params_)\n",
        "import matplotlib.pyplot as plt\n",
        "plt.figure(figsize=(14, 10))\n",
        "plt.style.use('ggplot')\n",
        "plt.plot(valores, rf_av, color = 'red')\n",
        "plt.ylabel(\"Acurácia\")\n",
        "plt.xlabel(\"Profundidade máxima\")\n",
        "plt.show()\n"
      ],
      "id": "e2311991",
      "execution_count": null,
      "outputs": []
    },
    {
      "cell_type": "code",
      "metadata": {
        "id": "d94235ba",
        "outputId": "9a03fac8-6c03-49e0-851e-d24db3fa8971",
        "colab": {
          "base_uri": "https://localhost:8080/",
          "height": 235
        }
      },
      "source": [
        "acc_av = arvore.cv_results_['mean_test_score']\n",
        "print(arvore.best_params_)\n",
        "import matplotlib.pyplot as plt\n",
        "plt.figure(figsize=(14, 10))\n",
        "plt.style.use('ggplot')\n",
        "plt.plot(valores, acc_av, color = 'red')\n",
        "plt.ylabel(\"Acurácia\")\n",
        "plt.xlabel(\"Profundidade máxima\")\n",
        "plt.show()\n"
      ],
      "id": "d94235ba",
      "execution_count": null,
      "outputs": [
        {
          "output_type": "error",
          "ename": "NameError",
          "evalue": "ignored",
          "traceback": [
            "\u001b[0;31m---------------------------------------------------------------------------\u001b[0m",
            "\u001b[0;31mNameError\u001b[0m                                 Traceback (most recent call last)",
            "\u001b[0;32m<ipython-input-81-2555221938e4>\u001b[0m in \u001b[0;36m<module>\u001b[0;34m()\u001b[0m\n\u001b[0;32m----> 1\u001b[0;31m \u001b[0macc_av\u001b[0m \u001b[0;34m=\u001b[0m \u001b[0marvore\u001b[0m\u001b[0;34m.\u001b[0m\u001b[0mcv_results_\u001b[0m\u001b[0;34m[\u001b[0m\u001b[0;34m'mean_test_score'\u001b[0m\u001b[0;34m]\u001b[0m\u001b[0;34m\u001b[0m\u001b[0;34m\u001b[0m\u001b[0m\n\u001b[0m\u001b[1;32m      2\u001b[0m \u001b[0mprint\u001b[0m\u001b[0;34m(\u001b[0m\u001b[0marvore\u001b[0m\u001b[0;34m.\u001b[0m\u001b[0mbest_params_\u001b[0m\u001b[0;34m)\u001b[0m\u001b[0;34m\u001b[0m\u001b[0;34m\u001b[0m\u001b[0m\n\u001b[1;32m      3\u001b[0m \u001b[0;32mimport\u001b[0m \u001b[0mmatplotlib\u001b[0m\u001b[0;34m.\u001b[0m\u001b[0mpyplot\u001b[0m \u001b[0;32mas\u001b[0m \u001b[0mplt\u001b[0m\u001b[0;34m\u001b[0m\u001b[0;34m\u001b[0m\u001b[0m\n\u001b[1;32m      4\u001b[0m \u001b[0mplt\u001b[0m\u001b[0;34m.\u001b[0m\u001b[0mfigure\u001b[0m\u001b[0;34m(\u001b[0m\u001b[0mfigsize\u001b[0m\u001b[0;34m=\u001b[0m\u001b[0;34m(\u001b[0m\u001b[0;36m14\u001b[0m\u001b[0;34m,\u001b[0m \u001b[0;36m10\u001b[0m\u001b[0;34m)\u001b[0m\u001b[0;34m)\u001b[0m\u001b[0;34m\u001b[0m\u001b[0;34m\u001b[0m\u001b[0m\n\u001b[1;32m      5\u001b[0m \u001b[0mplt\u001b[0m\u001b[0;34m.\u001b[0m\u001b[0mstyle\u001b[0m\u001b[0;34m.\u001b[0m\u001b[0muse\u001b[0m\u001b[0;34m(\u001b[0m\u001b[0;34m'ggplot'\u001b[0m\u001b[0;34m)\u001b[0m\u001b[0;34m\u001b[0m\u001b[0;34m\u001b[0m\u001b[0m\n",
            "\u001b[0;31mNameError\u001b[0m: name 'arvore' is not defined"
          ]
        }
      ]
    },
    {
      "cell_type": "code",
      "metadata": {
        "colab": {
          "base_uri": "https://localhost:8080/",
          "height": 626
        },
        "id": "9aa5593c",
        "outputId": "22fde89e-0a43-49dc-ef41-1b5acb525a9a"
      },
      "source": [
        "ac_kn = knn.cv_results_['mean_test_score']\n",
        "print(knn.best_params_)\n",
        "import matplotlib.pyplot as plt\n",
        "plt.figure(figsize=(14, 10))\n",
        "plt.style.use('ggplot')\n",
        "plt.plot(vlk, ac_kn, color = 'black')\n",
        "plt.ylabel(\"Acurácia\")\n",
        "plt.xlabel(\"Número de vizinhos\")\n",
        "plt.show()"
      ],
      "id": "9aa5593c",
      "execution_count": null,
      "outputs": [
        {
          "output_type": "stream",
          "name": "stdout",
          "text": [
            "{'n_neighbors': 19}\n"
          ]
        },
        {
          "output_type": "display_data",
          "data": {
            "image/png": "[encoded data removed]",
            "text/plain": [
              "<Figure size 1008x720 with 1 Axes>"
            ]
          },
          "metadata": {}
        }
      ]
    },
    {
      "cell_type": "code",
      "metadata": {
        "id": "9e4c4d04"
      },
      "source": [
        "from sklearn.metrics import confusion_matrix\n",
        "def MetricasClassBinaria(observado, predito, custo = None):\n",
        "    mc = confusion_matrix(observado, predito)\n",
        "    vn, fp, fn, vp = mc.flatten()\n",
        "\n",
        "    pre = observado.mean()\n",
        "    acc = (vn + vp)/(vn + fp + fn + vp) \n",
        "    sen = vp/(vp + fn)\n",
        "    esp = vn/(vn + fp)\n",
        "    vpp = vp/(vp + fp)\n",
        "    vpn = vn/(vn + fn) \n",
        "    mcc = (vp*vn - fp*fn)/np.sqrt((vp + fp)*(vp + fn)*(vn + fp)*(vn + fn))\n",
        "    f1s = 2*vpp*sen/(vpp + sen) \n",
        "    efi = (sen + esp)/2\n",
        "\n",
        "    \n",
        "    print('                  Acurácia: {:.4f}'.format(acc))\n",
        "    print('             Sensibilidade: {:.4f}'.format(sen))\n",
        "    print('            Especificidade: {:.4f}'.format(esp))\n",
        "    print('  Valor Preditivo Positivo: {:.4f}'.format(vpp))\n",
        "    print('  Valor Preditivo Negativo: {:.4f}'.format(vpn))\n",
        "    print('Coef. de Corr. de Matthews: {:.4f}'.format(mcc))\n",
        "    print('                  F1-Score: {:.4f}'.format(f1s))\n",
        "    #print('                Eficiência: {:.4f}'.format(efi))\n",
        "    print('Matriz de confusão', mc)\n",
        "\n",
        "    metricas = 0\n",
        "    #{'prevalência': pre, 'acurácia': acc, 'sensibilidade': sen, \n",
        "            #'especificidade': esp, 'vpp': vpp, 'vpn': vpn, 'mcc': mcc,\n",
        "           #'f1-score': f1s, 'eficiência': efi}\n",
        "\n",
        "    #if custo is not None:\n",
        "    #    cost = (mc * np.array(custo).reshape(2,2)).sum()\n",
        "    #    print('\\n                     Custo: {}'.format(cost))\n",
        "    #    metricas['custo'] = cost\n",
        "#\n",
        "    return metricas"
      ],
      "id": "9e4c4d04",
      "execution_count": null,
      "outputs": []
    },
    {
      "cell_type": "code",
      "metadata": {
        "id": "499a188d",
        "colab": {
          "base_uri": "https://localhost:8080/"
        },
        "outputId": "f72e1369-05e2-49db-a3db-3cbc7c3faafe"
      },
      "source": [
        "# md = 5\n",
        "valores5 = np.arange(5, 6, 2) #profundidades\n",
        "parametros5 = {'max_depth': valores5}\n",
        "clf_mk5 = GridSearchCV(RandomForestClassifier(), param_grid = parametros5, cv = kf, scoring = 'accuracy')\n",
        "clf_mk5.fit(Xk, Yk)\n",
        "\n",
        "#reglog\n",
        "rlog = GridSearchCV(LogisticRegression(), param_grid={} , cv = kf, scoring = 'accuracy')\n",
        "rlog.fit(Xk, Yk)\n",
        "\n",
        "#knn 13\n",
        "vlk13 = np.arange(29, 30, 2) #profundidades\n",
        "park = {'n_neighbors': vlk13}\n",
        "knn_mk13 = GridSearchCV(KNeighborsClassifier(), param_grid = park, cv = kf, scoring = 'accuracy')\n",
        "knn_mk13.fit(Xk, Yk)\n",
        "\n",
        "\n",
        "#arvore 2\n",
        "val_4 = np.arange(2, 5, 1) #profundidades\n",
        "par_a4 = {'max_depth': val_4}\n",
        "arv2 = GridSearchCV(DecisionTreeClassifier(), param_grid = par_a4, cv = kf, scoring = 'accuracy')\n",
        "arv2.fit(Xk, Yk)\n",
        "\n",
        "#svm\n",
        "svm1 = GridSearchCV(SVC(probability= True), param_grid={} , cv = kf, scoring = 'accuracy')\n",
        "svm1.fit(Xk, Yk)\n",
        "#39\n",
        "print('rf')\n",
        "pred_rf5 = clf_mk5.predict(Xvalid)\n",
        "met_rf5 = MetricasClassBinaria(Yvalid, pred_rf5)\n",
        "\n",
        "#svm\n",
        "print('svm')\n",
        "pred_svm = svm1.predict(Xvalid)\n",
        "met_svm = MetricasClassBinaria(Yvalid, pred_svm)\n",
        "\n",
        "#reglog\n",
        "print('rlog')\n",
        "pred_rlog = rlog.predict(Xvalid)\n",
        "met_rlog = MetricasClassBinaria(Yvalid, pred_rlog)\n",
        "\n",
        "#knn\n",
        "print('knn')\n",
        "pred_k13 = knn_mk13.predict(Xvalid)\n",
        "met_k13 = MetricasClassBinaria(Yvalid, pred_k13)\n",
        "\n",
        "#arvore\n",
        "print('arv')\n",
        "pred_av2 = arv2.predict(Xvalid)\n",
        "met_arv2 = MetricasClassBinaria(Yvalid, pred_av2)\n",
        "\n",
        "modelos = [ \"Regressão logística\", 'SVM', 'Random Forest (5)', \"KNN (13)\", \"Arvore de Decisão (2)\"]\n",
        "\n",
        "preditos = [met_rlog, met_svm, met_rf5,met_k13, met_arv2]\n",
        "\n",
        "resultados = pd.DataFrame()\n",
        "\n",
        "for i in range(len(modelos)):\n",
        "    aux = pd.DataFrame.from_dict(preditos[i], orient = 'index', columns = [modelos[i]])\n",
        "    resultados = pd.concat([resultados, aux], axis = 1)\n",
        "resultados.T.round(4).sort_values('acurácia', ascending = False).to_csv('met mod.csv')"
      ],
      "id": "499a188d",
      "execution_count": null,
      "outputs": [
        {
          "output_type": "stream",
          "name": "stdout",
          "text": [
            "rf\n",
            "                  Acurácia: 0.7961\n",
            "             Sensibilidade: 0.6383\n",
            "            Especificidade: 0.8667\n",
            "  Valor Preditivo Positivo: 0.6818\n",
            "  Valor Preditivo Negativo: 0.8426\n",
            "Coef. de Corr. de Matthews: 0.5146\n",
            "                  F1-Score: 0.6593\n",
            "                Eficiência: 0.7525\n",
            "svm\n",
            "                  Acurácia: 0.7961\n",
            "             Sensibilidade: 0.5745\n",
            "            Especificidade: 0.8952\n",
            "  Valor Preditivo Positivo: 0.7105\n",
            "  Valor Preditivo Negativo: 0.8246\n",
            "Coef. de Corr. de Matthews: 0.5013\n",
            "                  F1-Score: 0.6353\n",
            "                Eficiência: 0.7349\n",
            "rlog\n",
            "                  Acurácia: 0.7961\n",
            "             Sensibilidade: 0.6170\n",
            "            Especificidade: 0.8762\n",
            "  Valor Preditivo Positivo: 0.6905\n",
            "  Valor Preditivo Negativo: 0.8364\n",
            "Coef. de Corr. de Matthews: 0.5097\n",
            "                  F1-Score: 0.6517\n",
            "                Eficiência: 0.7466\n",
            "knn\n",
            "                  Acurácia: 0.8158\n",
            "             Sensibilidade: 0.6596\n",
            "            Especificidade: 0.8857\n",
            "  Valor Preditivo Positivo: 0.7209\n",
            "  Valor Preditivo Negativo: 0.8532\n",
            "Coef. de Corr. de Matthews: 0.5595\n",
            "                  F1-Score: 0.6889\n",
            "                Eficiência: 0.7726\n",
            "arv\n",
            "                  Acurácia: 0.7697\n",
            "             Sensibilidade: 0.5319\n",
            "            Especificidade: 0.8762\n",
            "  Valor Preditivo Positivo: 0.6579\n",
            "  Valor Preditivo Negativo: 0.8070\n",
            "Coef. de Corr. de Matthews: 0.4356\n",
            "                  F1-Score: 0.5882\n",
            "                Eficiência: 0.7041\n"
          ]
        }
      ]
    },
    {
      "cell_type": "code",
      "source": [
        "params = {\n",
        "   'rf__max_depth': [5],\n",
        "   'knn__n_neighbors': [29],\n",
        "   'arv__max_depth': [2]\n",
        "}"
      ],
      "metadata": {
        "id": "gps_r4xXRhGF"
      },
      "id": "gps_r4xXRhGF",
      "execution_count": null,
      "outputs": []
    },
    {
      "cell_type": "code",
      "source": [
        "from sklearn.ensemble import VotingClassifier\n",
        "\n",
        "eclf_h = VotingClassifier(estimators=[('rf', RandomForestClassifier()), ('rlog', LogisticRegression()),\n",
        "       ('knn', KNeighborsClassifier()), ('arv', DecisionTreeClassifier()),\n",
        "       ('svm', SVC())], voting='hard')"
      ],
      "metadata": {
        "id": "8JKeOOl_SWkp"
      },
      "id": "8JKeOOl_SWkp",
      "execution_count": null,
      "outputs": []
    },
    {
      "cell_type": "code",
      "source": [
        "eclf_s = VotingClassifier(estimators=[('rf', RandomForestClassifier()), ('rlog', LogisticRegression()),\n",
        "       ('knn', KNeighborsClassifier()), ('arv', DecisionTreeClassifier()),\n",
        "       ('svm', SVC(probability=True))], voting='soft')"
      ],
      "metadata": {
        "id": "mzjf5a8UTLeY"
      },
      "id": "mzjf5a8UTLeY",
      "execution_count": null,
      "outputs": []
    },
    {
      "cell_type": "code",
      "source": [
        "grid_h = GridSearchCV(estimator=eclf_h, param_grid=params, cv= kf)"
      ],
      "metadata": {
        "id": "wl5t6BWuUnM1"
      },
      "id": "wl5t6BWuUnM1",
      "execution_count": null,
      "outputs": []
    },
    {
      "cell_type": "code",
      "source": [
        "grid_s = GridSearchCV(estimator=eclf_s, param_grid=params, cv= kf)"
      ],
      "metadata": {
        "id": "QgP7Ch7wU2Wd"
      },
      "id": "QgP7Ch7wU2Wd",
      "execution_count": null,
      "outputs": []
    },
    {
      "cell_type": "code",
      "source": [
        "grid_h.fit(Xk, Yk)"
      ],
      "metadata": {
        "id": "L1RZDA5NX6en"
      },
      "id": "L1RZDA5NX6en",
      "execution_count": null,
      "outputs": []
    },
    {
      "cell_type": "code",
      "source": [
        "met_hz = pd.DataFrame.from_dict(MetricasClassBinaria(Yvalid,  grid_h.predict(Xvalid)), orient = 'index')\n",
        "met_hz.to_csv('met haz.csv')"
      ],
      "metadata": {
        "id": "OFPWSX5kakLG"
      },
      "id": "OFPWSX5kakLG",
      "execution_count": null,
      "outputs": []
    },
    {
      "cell_type": "code",
      "source": [
        "grid_s.fit(Xk, Yk)"
      ],
      "metadata": {
        "id": "PRVfsX-9bRop"
      },
      "id": "PRVfsX-9bRop",
      "execution_count": null,
      "outputs": []
    },
    {
      "cell_type": "code",
      "source": [
        "met_s = pd.DataFrame.from_dict(MetricasClassBinaria(Yvalid,  grid_s.predict(Xvalid)), orient = 'index')\n",
        "met_s.to_csv('met soft.csv')"
      ],
      "metadata": {
        "id": "fEJ-p1kkbUls",
        "colab": {
          "base_uri": "https://localhost:8080/"
        },
        "outputId": "5d165357-8fff-406b-cd51-4a8d045b2212"
      },
      "id": "fEJ-p1kkbUls",
      "execution_count": null,
      "outputs": [
        {
          "output_type": "stream",
          "name": "stdout",
          "text": [
            "                  Acurácia: 0.8158\n",
            "             Sensibilidade: 0.6170\n",
            "            Especificidade: 0.9048\n",
            "  Valor Preditivo Positivo: 0.7436\n",
            "  Valor Preditivo Negativo: 0.8407\n",
            "Coef. de Corr. de Matthews: 0.5522\n",
            "                  F1-Score: 0.6744\n",
            "                Eficiência: 0.7609\n"
          ]
        }
      ]
    },
    {
      "cell_type": "code",
      "source": [
        "np.random.seed(453)\n",
        "params = {\n",
        "   'rf__max_depth': [5],\n",
        "   'knn__n_neighbors': [29]\n",
        "}\n",
        "eclf_s2 = VotingClassifier(estimators=[('rf', RandomForestClassifier()), \n",
        "                                       ('knn', KNeighborsClassifier()),\n",
        "                                       ('svm', SVC(probability=True))], voting='soft', weights = [2,1, 1])\n",
        "grid_s2 = GridSearchCV(estimator=eclf_s2, param_grid=params, cv= kf)"
      ],
      "metadata": {
        "id": "z6OuKx2fjGrm"
      },
      "id": "z6OuKx2fjGrm",
      "execution_count": null,
      "outputs": []
    },
    {
      "cell_type": "code",
      "source": [
        "np.random.seed(453)\n",
        "grid_s2.fit(Xk, Yk)\n",
        "MetricasClassBinaria(Yvalid,  grid_s2.predict(Xvalid))"
      ],
      "metadata": {
        "colab": {
          "base_uri": "https://localhost:8080/"
        },
        "id": "_p83WJC3Sx0z",
        "outputId": "17017962-d8b2-4c53-be6e-10a79960c3ce"
      },
      "id": "_p83WJC3Sx0z",
      "execution_count": null,
      "outputs": [
        {
          "output_type": "stream",
          "name": "stdout",
          "text": [
            "                  Acurácia: 0.8355\n",
            "             Sensibilidade: 0.6596\n",
            "            Especificidade: 0.9143\n",
            "  Valor Preditivo Positivo: 0.7750\n",
            "  Valor Preditivo Negativo: 0.8571\n",
            "Coef. de Corr. de Matthews: 0.6023\n",
            "                  F1-Score: 0.7126\n",
            "Matriz de confusão [[96  9]\n",
            " [16 31]]\n"
          ]
        },
        {
          "output_type": "execute_result",
          "data": {
            "text/plain": [
              "0"
            ]
          },
          "metadata": {},
          "execution_count": 111
        }
      ]
    },
    {
      "cell_type": "code",
      "source": [
        "#combinação de modelos\n",
        "from sklearn.ensemble import VotingClassifier\n",
        "#create a dictionary of our models\n",
        "estimators=[ ('rf', clf_mk5), ('log_reg', rlog), ('arv', arv2)]\n",
        "#create our voting classifier, inputting our models\n",
        "ensemble = VotingClassifier(estimators, voting='hard', weights= [1,1,1])"
      ],
      "metadata": {
        "id": "rRUqepVL895z"
      },
      "id": "rRUqepVL895z",
      "execution_count": null,
      "outputs": []
    },
    {
      "cell_type": "code",
      "source": [
        "#fit model to training data\n",
        "mod_comb = ensemble.fit(Xk, Yk)\n",
        "#test our model on the test data\n",
        "ensemble.score(Xvalid, Yvalid)"
      ],
      "metadata": {
        "id": "J76JodpL-LNS"
      },
      "id": "J76JodpL-LNS",
      "execution_count": null,
      "outputs": []
    },
    {
      "cell_type": "code",
      "source": [
        "MetricasClassBinaria(Yvalid, mod_comb.predict(Xvalid))"
      ],
      "metadata": {
        "id": "UA--mKPP-1t0"
      },
      "id": "UA--mKPP-1t0",
      "execution_count": null,
      "outputs": []
    },
    {
      "cell_type": "code",
      "source": [
        "met_comb = MetricasClassBinaria(Yvalid, grid_s2.predict(Xvalid))"
      ],
      "metadata": {
        "id": "xh7Gwu0WAX7o"
      },
      "id": "xh7Gwu0WAX7o",
      "execution_count": null,
      "outputs": []
    },
    {
      "cell_type": "code",
      "source": [
        "met_combd = pd.DataFrame.from_dict(met_comb, orient='index').rename(columns={0:'Métricas'})\n",
        "met_combd.to_csv('met comb.csv')"
      ],
      "metadata": {
        "id": "UAXvMH34kafi"
      },
      "id": "UAXvMH34kafi",
      "execution_count": null,
      "outputs": []
    },
    {
      "cell_type": "code",
      "source": [
        "sc.fit_transform(data2.append(pd.DataFrame([[141, 36, 41, 6]], columns = ['Glucose', 'BMI', 'Age', 'Pregnancies'])))[-1, :]\n",
        "grid_s2.predict_proba([[0.62, 0.51, 0.66, 0.64]])"
      ],
      "metadata": {
        "id": "8GG-64w-f0e3"
      },
      "id": "8GG-64w-f0e3",
      "execution_count": null,
      "outputs": []
    },
    {
      "cell_type": "code",
      "source": [
        "rating = []\n",
        "for row in prob_comb[0]:\n",
        "        if row >= 0.55 :    rating.append(0)\n",
        "        elif row < 0.45:   rating.append(1)\n",
        "      \n",
        "        \n",
        "        else:           rating.append(2)"
      ],
      "metadata": {
        "id": "Q4bJyH0ubZdJ"
      },
      "id": "Q4bJyH0ubZdJ",
      "execution_count": null,
      "outputs": []
    },
    {
      "cell_type": "code",
      "source": [
        "Yv = pd.DataFrame(Yvalid)\n"
      ],
      "metadata": {
        "id": "uHcBHYLWPmvb"
      },
      "id": "uHcBHYLWPmvb",
      "execution_count": null,
      "outputs": []
    },
    {
      "cell_type": "code",
      "source": [
        "tb_a = []\n",
        "a2 = 0\n",
        "for i in range(0, 152):\n",
        "  if int(rating[i]) == 2: a2 += 1 \n",
        "  tb_a.append(int(rating[i]) == int(Yv.iloc[i]))\n",
        "print(a2)\n",
        "tb_a.count(True)/(152 - a2)"
      ],
      "metadata": {
        "colab": {
          "base_uri": "https://localhost:8080/"
        },
        "id": "9bgelSXmdXKw",
        "outputId": "f0bfa767-b2b4-4a8c-e462-2aa0337783ae"
      },
      "id": "9bgelSXmdXKw",
      "execution_count": null,
      "outputs": [
        {
          "output_type": "stream",
          "name": "stdout",
          "text": [
            "11\n"
          ]
        },
        {
          "output_type": "execute_result",
          "data": {
            "text/plain": [
              "0.8439716312056738"
            ]
          },
          "metadata": {},
          "execution_count": 82
        }
      ]
    },
    {
      "cell_type": "code",
      "source": [
        "tb_a = []\n",
        "for i in range(0, 154):\n",
        "  tb_a.append(int(prob_comb.loc[i, 'pred']) == int(Yv.iloc[i]))\n",
        "\n",
        "tb_a.count(True)/154"
      ],
      "metadata": {
        "colab": {
          "base_uri": "https://localhost:8080/"
        },
        "id": "r-k5Q4upSmsi",
        "outputId": "e0e45036-b098-4bda-c239-8fe641a2b37f"
      },
      "id": "r-k5Q4upSmsi",
      "execution_count": null,
      "outputs": [
        {
          "output_type": "execute_result",
          "data": {
            "text/plain": [
              "0.8246753246753247"
            ]
          },
          "metadata": {},
          "execution_count": 313
        }
      ]
    }
  ]
}